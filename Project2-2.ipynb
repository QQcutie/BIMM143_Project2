{
 "cells": [
  {
   "cell_type": "markdown",
   "id": "02c9bf7b",
   "metadata": {},
   "source": [
    "# Project 2 Jupyter Notebook\n",
    "## by Qingyue Li"
   ]
  },
  {
   "cell_type": "markdown",
   "id": "7b6de42d",
   "metadata": {},
   "source": [
    "## Scientific Question: Would the storage protein, an allergen, in peanut induce allergenic cross-reactive with pistachio as cashew and pistachio have high cross-reaticity for one another?\n",
    "    \n",
    "## Background:\n",
    "    Storage protein in seed or nuts are responsible to most of the allergenic reactions. There are many studies that are intersted in the cross reactivity between these allergens. Cross-reactivity in terms of allergic reaction is the likely hood of being allergic to another source when one is already allergic to a known source. For example, in this project, we are trying to figure out if someone is allergy to pistachio, would they more likely to be allergic to cashew or peanuts. \n",
    "    Allergy is caused by the specific binding between the allergen and the IgE antibody. If the conformation of a protein contains a IgE-binding epitope, then this protein would be highly allergenic. So when two proteins express high similarity at the molecular level, then they are very likely to cross-react.\n"
   ]
  },
  {
   "cell_type": "markdown",
   "id": "071dcabd",
   "metadata": {},
   "source": [
    "## Hypothesis: If the seed storage proteins (Ana o 2) in cashew and pistachio (2S Albumin) have multiple motifs in sequence and similar protein residue (binding sites), then they are more likely to have realitively higher cross-reactivity with one another than with peanuts.\n",
    "\n",
    "## Method\n",
    "    Attempted protein structure analysis to see the similarity of the allergenic proteins, such as amino acids component, the hydrophobicity (as it is important for binding site interaction). Pairwise sequence alignment is performed to see how similar the sequences are and a heat plot is generated for visulization."
   ]
  },
  {
   "cell_type": "markdown",
   "id": "910228a7",
   "metadata": {},
   "source": [
    "Arachis hypogaea (peanut)\n",
    "Arachis hypogaea main allergen Ara h1 mRNA, complete cds\n",
    "https://www.ncbi.nlm.nih.gov/nuccore/193850560\n",
    "crystal structure: https://www.rcsb.org/structure/3s7i\n",
    "\n",
    "Pistacia vera (pistachio)\n",
    "Pistacia vera Pis v 1 allergen 2S albumin mRNA, complete cds\n",
    "https://www.ncbi.nlm.nih.gov/nuccore/110349080\n",
    "\n",
    "Anacardium occidentale (cashew)\n",
    "Anacardium occidentale allergen Ana o 2 mRNA, partial cds\n",
    "https://www.ncbi.nlm.nih.gov/nuccore/25991542"
   ]
  },
  {
   "cell_type": "markdown",
   "id": "2dfe8f59",
   "metadata": {},
   "source": [
    "## Part 1: Package Loading\n",
    "\n",
    "### SeqIO: \n",
    "    Allows the inputting and the outputting of sequence files. There are a variety of types of file that SeIO could read (but they need to be a SeqRecord object). Records of the file could be created in memory and the records could be indexed. It outputs files so that the results could be stored for reading and sharing. To learn more, visit: https://biopython.org/wiki/SeqIO.\n",
    "\n",
    "### NumPy:\n",
    "    This package includes a lot of mathematical equation. It is mainly used for performing mathematical operations. With the Numpy package, computations such as simple math operation, linear algebra, trigonomitry, and shape manipulation can be achieved. Numpy usually produces an array that contains objects of the type. To learn more, visit: https://numpy.org/doc/stable/reference/arrays.html.\n",
    "\n",
    "### matplotlib.pyplot:\n",
    "    This package contains functions that could create plots in Python. For example, x-axis and the y-axis of a plot can be defined and the type of graph can be customized as well. Some of the commonly used types of plot that could be done using the functions in matplotlib.pyplot are histogram and scatter plot. It is a great package for visualization. To learn more, visit: https://matplotlib.org/stable/tutorials/introductory/pyplot.html.\n",
    "\n",
    "### pairwise2:\n",
    "    Pairwise2 is a package from the BioPython library. This would perform a pairwise sequence alignment when called. Either global or local alignment could be choosen with its appropriate match parameter and gap penalty parameter. A positive match score indicates high compatability while negative or zero means that the sequences are imcompatible. To learn more, visit:https://biopython.org/docs/1.75/api/Bio.pairwise2.html\n",
    "\n",
    "### nglview:\n",
    "    This package read in files of certain type such as PDB amd CIF format. This is a package that allows interactive visualization of molecular structures. The user can perform tasks such as scaling and rotating. The trajectories of molecule dynamics can also be viewed. To learn more, visit: http://nglviewer.org/nglview/release/v0.5.1/#\n",
    "    \n",
    "### ipywidgets:\n",
    "    By importing this package, a simple widget is installed. A widget is a Python object that allows interactive control of the data. It is a graphic user interface (GUI) such as the slidebar and buttons that we see on a website. This allows the modification of the outputs without having to change the code that led to the result. To learn more, visit: https://ipywidgets.readthedocs.io/en/latest/user_install.html.\n",
    "    "
   ]
  },
  {
   "cell_type": "code",
   "execution_count": null,
   "id": "d7298263",
   "metadata": {},
   "outputs": [],
   "source": [
    "from Bio.PDB import *\n",
    "import nglview as nv\n",
    "import ipywidgets\n",
    "from Bio.SeqUtils.ProtParam import ProteinAnalysis\n",
    "\n",
    "from Bio import SeqIO\n",
    "import numpy as np\n",
    "import matplotlib.pyplot as plt\n",
    "from Bio import pairwise2"
   ]
  },
  {
   "cell_type": "markdown",
   "id": "01ec72b0",
   "metadata": {},
   "source": [
    "### Protein Structure Analysis"
   ]
  },
  {
   "cell_type": "code",
   "execution_count": null,
   "id": "356e6a7f",
   "metadata": {},
   "outputs": [],
   "source": [
    "# To parse PDB file and create an interactive visualization\n",
    "pdb_parser = PDBParser()\n",
    "structure = pdb_parser.get_structure(\"PHA-L\", \"Ara_h1.pdb\")\n",
    "view = nv.show_biopython(structure)\n",
    "\n",
    "# Header\n",
    "# To gain infomation on a protein by creating a dictionary\n",
    "mmcif_dict = MMCIFDict.MMCIFDict(\"Ara_h1.pdb\") #change file name and type\n",
    "len(mmcif_dict)\n",
    "\n",
    "# .get_residues() method in a loop\n",
    "# returns the protein sequence of the residue\n",
    "for model in structure:\n",
    "    for residue in model.get_residues():\n",
    "        print(residue)\n",
    "\n",
    "# Polypeptide construction\n",
    "# Generating each individual poplypeptide protein sequence based on the residue sequence above\n",
    "\n",
    "polypeptide_builder = CaPPBuilder()\n",
    "counter = 1\n",
    "for polypeptide in polypeptide_builder.build_peptides(structure):\n",
    "    seq = polypeptide.get_sequence()\n",
    "    print(f\"Sequence: {counter}, Length: {len(seq)}\")\n",
    "    print(seq)\n",
    "    counter += 1\n",
    "    \n",
    "    \n",
    "# empty list\n",
    "all_seqs = []\n",
    "counter = 1\n",
    "\n",
    "# Analyze the protein sequence using the imported ProteinAnalysis\n",
    "# Variable seq from the above .get_sequence() needs to be transformed inti a str() object\n",
    "# ProteinAnalysis allows more properties of the coresponding protein to be analyzed\n",
    "for pp in ppb.build_peptides(structure):\n",
    "    seq_info = {} # empty dict\n",
    "    seq = pp.get_sequence() \n",
    "    analyzed_seq = ProteinAnalysis(str(seq)) # convert to a str \n",
    "    \n",
    "    # Some examples of furthur analysis of the analyzed_seq object\n",
    "    # Storing results in a dictionary    \n",
    "    seq_info['Sequence Number'] = counter # set sequence id\n",
    "    seq_info['Sequence'] = seq # store BioPython Seq() object\n",
    "    seq_info['Sequence Length'] = len(seq) # length of seq\n",
    "    seq_info['Molecular Weight'] = analyzed_seq.molecular_weight() # molecular weight\n",
    "    seq_info['GRAVY'] = analyzed_seq.gravy() # hydrophobicity \n",
    "    seq_info['AA Count'] = analyzed_seq.count_amino_acids() \n",
    "    seq_info['AA Percent'] = analyzed_seq.get_amino_acids_percent()\n",
    "    \n",
    "    # Update all_seqs list \n",
    "    all_seqs.append(seq_info)\n",
    "    counter += 1\n",
    "\n",
    "# Print results\n",
    "for i in all_seqs:\n",
    "    print(all_seqs[i])"
   ]
  },
  {
   "cell_type": "markdown",
   "id": "f997b09d",
   "metadata": {},
   "source": [
    "### Pairwise Sequence Alignment"
   ]
  },
  {
   "cell_type": "code",
   "execution_count": null,
   "id": "4a27b4ac",
   "metadata": {},
   "outputs": [],
   "source": [
    "# Read in file\n",
    "Fasta = list(SeqIO.parse(\"allergen_sequence.fasta\", \"fasta\"))\n",
    "\n",
    "size = len(Fasta)\n",
    "\n",
    "#Initiate variable i and j for for loop\n",
    "i = 0\n",
    "j = 0\n",
    "\n",
    "#Initiate an empy numpy matrix that is the length of the fasta file\n",
    "alignments_score = np.empty(shape=(size,size))\n",
    "\n",
    "#Nested for loop to do pairwise sequence alignment for each pair of kinases\n",
    "def pairwise_seq_heatmap(my_numpy_array, size):\n",
    "    for i in range(size):\n",
    "        for j in range(size):\n",
    "        # Define two sequences to be aligned\n",
    "            X = Fasta[i].seq\n",
    "            Y = Fasta[j].seq\n",
    "            print(Fasta[i].id)\n",
    "            \n",
    "        # Get a list of the global alignments between the two sequences ACGGGT and ACG\n",
    "        # No parameters. Identical characters have score of 1, else 0.\n",
    "        # No gap penalties.\n",
    "            my_numpy_array[i,j] = int(pairwise2.align.globalxx(X, Y, score_only=True))\n",
    "\n",
    "    return my_numpy_array\n",
    "# Check that the for loop correctly created the matrix\n",
    "My_alignment_Scores = pairwise_seq_heatmap(alignments_score, size)"
   ]
  },
  {
   "cell_type": "markdown",
   "id": "5304e88e",
   "metadata": {},
   "source": [
    "### Heat Plot"
   ]
  },
  {
   "cell_type": "code",
   "execution_count": null,
   "id": "41664de4",
   "metadata": {},
   "outputs": [],
   "source": [
    "# Create subplot\n",
    "fig, ax = plt.subplots()\n",
    "\n",
    "# show the heatplot\n",
    "plt.imshow(alignments_score)\n",
    "\n",
    "# Construct the heat map to show the axes\n",
    "im = ax.imshow(alignments_score)\n",
    "\n",
    "# Add a colorbar to the right of the heatmap\n",
    "cbar = ax.figure.colorbar(im)\n",
    "\n",
    "# Show the plot\n",
    "plt.show()"
   ]
  },
  {
   "cell_type": "markdown",
   "id": "900a21a8",
   "metadata": {},
   "source": [
    "### Analysis of the Results"
   ]
  },
  {
   "cell_type": "markdown",
   "id": "29cfb689",
   "metadata": {},
   "source": [
    "The code did not run but theotically cashew should have a higher alignment score with pistachio and higher structural similarity in the IgE binding epitope."
   ]
  }
 ],
 "metadata": {
  "kernelspec": {
   "display_name": "Python 3",
   "language": "python",
   "name": "python3"
  },
  "language_info": {
   "codemirror_mode": {
    "name": "ipython",
    "version": 3
   },
   "file_extension": ".py",
   "mimetype": "text/x-python",
   "name": "python",
   "nbconvert_exporter": "python",
   "pygments_lexer": "ipython3",
   "version": "3.8.8"
  }
 },
 "nbformat": 4,
 "nbformat_minor": 5
}
